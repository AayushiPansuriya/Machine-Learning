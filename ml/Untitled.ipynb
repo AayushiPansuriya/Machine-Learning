{
 "cells": [
  {
   "cell_type": "code",
   "execution_count": 2,
   "id": "c02c4137-d5e2-4ea6-a7ca-2e61c81b3e5a",
   "metadata": {},
   "outputs": [
    {
     "ename": "AttributeError",
     "evalue": "module 'cv2' has no attribute 'filter2d'",
     "output_type": "error",
     "traceback": [
      "\u001b[1;31m---------------------------------------------------------------------------\u001b[0m",
      "\u001b[1;31mAttributeError\u001b[0m                            Traceback (most recent call last)",
      "Cell \u001b[1;32mIn[2], line 8\u001b[0m\n\u001b[0;32m      6\u001b[0m img\u001b[38;5;241m=\u001b[39mcv2\u001b[38;5;241m.\u001b[39mcvtColor(img,cv2\u001b[38;5;241m.\u001b[39mCOLOR_BGR2RGB)\n\u001b[0;32m      7\u001b[0m k1\u001b[38;5;241m=\u001b[39mnp\u001b[38;5;241m.\u001b[39mones((\u001b[38;5;241m4\u001b[39m,\u001b[38;5;241m4\u001b[39m),np\u001b[38;5;241m.\u001b[39mfloat32)\u001b[38;5;241m/\u001b[39m\u001b[38;5;241m16\u001b[39m\n\u001b[1;32m----> 8\u001b[0m img1\u001b[38;5;241m=\u001b[39m\u001b[43mcv2\u001b[49m\u001b[38;5;241;43m.\u001b[39;49m\u001b[43mfilter2d\u001b[49m(img,\u001b[38;5;241m-\u001b[39m\u001b[38;5;241m1\u001b[39m,k1)\n\u001b[0;32m      9\u001b[0m plt\u001b[38;5;241m.\u001b[39msubplot(\u001b[38;5;241m1\u001b[39m,\u001b[38;5;241m2\u001b[39m,\u001b[38;5;241m1\u001b[39m),plt\u001b[38;5;241m.\u001b[39mimshow(img),plt\u001b[38;5;241m.\u001b[39maxis(\u001b[38;5;124m'\u001b[39m\u001b[38;5;124moff\u001b[39m\u001b[38;5;124m'\u001b[39m)\n\u001b[0;32m     10\u001b[0m plt\u001b[38;5;241m.\u001b[39msubplot(\u001b[38;5;241m1\u001b[39m,\u001b[38;5;241m2\u001b[39m,\u001b[38;5;241m2\u001b[39m),plt\u001b[38;5;241m.\u001b[39mimshow(img1),plt\u001b[38;5;241m.\u001b[39maxis(\u001b[38;5;124m'\u001b[39m\u001b[38;5;124moff\u001b[39m\u001b[38;5;124m'\u001b[39m)\n",
      "\u001b[1;31mAttributeError\u001b[0m: module 'cv2' has no attribute 'filter2d'"
     ]
    }
   ],
   "source": [
    "#bluring an image\n",
    "import cv2\n",
    "import matplotlib.pyplot as plt\n",
    "import numpy as np\n",
    "img=cv2.imread('au.png')\n",
    "img=cv2.cvtColor(img,cv2.COLOR_BGR2RGB)\n",
    "k1=np.ones((4,4),np.float32)/16\n",
    "img1=cv2.filter2d(img,-1,k1)\n",
    "plt.subplot(1,2,1),plt.imshow(img),plt.axis('off')\n",
    "plt.subplot(1,2,2),plt.imshow(img1),plt.axis('off')"
   ]
  },
  {
   "cell_type": "code",
   "execution_count": null,
   "id": "cee4b45c-6d0b-418e-acc5-fd7d44378503",
   "metadata": {},
   "outputs": [],
   "source": []
  }
 ],
 "metadata": {
  "kernelspec": {
   "display_name": "Python 3 (ipykernel)",
   "language": "python",
   "name": "python3"
  },
  "language_info": {
   "codemirror_mode": {
    "name": "ipython",
    "version": 3
   },
   "file_extension": ".py",
   "mimetype": "text/x-python",
   "name": "python",
   "nbconvert_exporter": "python",
   "pygments_lexer": "ipython3",
   "version": "3.10.2"
  }
 },
 "nbformat": 4,
 "nbformat_minor": 5
}
