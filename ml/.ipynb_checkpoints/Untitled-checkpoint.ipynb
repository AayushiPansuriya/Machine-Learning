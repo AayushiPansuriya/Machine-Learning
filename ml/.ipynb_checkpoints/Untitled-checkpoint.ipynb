{
 "cells": [
  {
   "cell_type": "code",
   "execution_count": null,
   "id": "c02c4137-d5e2-4ea6-a7ca-2e61c81b3e5a",
   "metadata": {},
   "outputs": [],
   "source": [
    "#bluring an image\n",
    "import cv2\n",
    "import matplotlib.pyplot as plt\n",
    "import numpy as np\n",
    "img=cv2.imread('au.png')\n",
    "img=cv2.cvtColor(img,cv2.COLOR_BGR2RGB)\n",
    "k1=np.ones((4,4),np.float32)/16\n",
    "img1=cv2.filter2d(img,-1,k1)\n",
    "plt.subplot(1,2,1),plt.imshow(img),plt.axis('off')\n",
    "plt.subplot(1,2,2),plt.imshow(img1),plt.axis('off')"
   ]
  }
 ],
 "metadata": {
  "kernelspec": {
   "display_name": "Python 3 (ipykernel)",
   "language": "python",
   "name": "python3"
  },
  "language_info": {
   "codemirror_mode": {
    "name": "ipython",
    "version": 3
   },
   "file_extension": ".py",
   "mimetype": "text/x-python",
   "name": "python",
   "nbconvert_exporter": "python",
   "pygments_lexer": "ipython3",
   "version": "3.10.2"
  }
 },
 "nbformat": 4,
 "nbformat_minor": 5
}
