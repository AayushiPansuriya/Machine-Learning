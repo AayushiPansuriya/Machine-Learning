{
 "cells": [
  {
   "cell_type": "code",
   "execution_count": null,
   "id": "b7233d6b-ee0d-4b5e-ac70-a9cef9abbaee",
   "metadata": {},
   "outputs": [
    {
     "name": "stdout",
     "output_type": "stream",
     "text": [
      "[[34 46 85 85]]\n"
     ]
    }
   ],
   "source": [
    "#object detection from the image\n",
    "#face detection\n",
    "import cv2\n",
    "\n",
    "#load pre-trained face detector(Haar Cascade)\n",
    "face_cascade=cv2.CascadeClassifier('haarcascade_frontalface_default.xml')\n",
    "\n",
    "#read img\n",
    "img=cv2.imread('person.jpg')\n",
    "gray_image=(cv2.cvtColor(img,cv2.COLOR_BGR2GRAY))\n",
    "\n",
    "#detect faces\n",
    "face=face_cascade.detectMultiScale(gray_image,scaleFactor=1.1,minNeighbors=4)\n",
    "print(face)\n",
    "\n",
    "#draw rectangles around the faces\n",
    "for(x,y,w,h)in face:\n",
    "    cv2.rectangle(img,(x,y),(x+w,y+h),(0,255,0),3)\n",
    "\n",
    "cv2.imshow('face detector',img)\n",
    "cv2.waitKey()\n",
    "cv2.destroyAllWindows()\n"
   ]
  },
  {
   "cell_type": "code",
   "execution_count": null,
   "id": "e7bb36e4-62a9-4318-a457-5bfb70ae7fb0",
   "metadata": {},
   "outputs": [],
   "source": [
    "#object detection from the image\n",
    "#face detection\n",
    "import cv2\n",
    "\n",
    "#load pre-trained face detector(Haar Cascade)\n",
    "face_cascade=cv2.CascadeClassifier('haarcascade_frontalface_default.xml')\n",
    "\n",
    "#open webcam(0=default,1=external)\n",
    "cap=cv2.VideoCapture(0)\n",
    "while True:\n",
    "    #capture frame by frame\n",
    "    ret,frame=cap.read()\n",
    "    if not ret:\n",
    "        break #if camera not available\n",
    "\n",
    "gray_image=(cv2.cvtColor(img,cv2.COLOR_BGR2GRAY))\n",
    "\n",
    "#detect faces\n",
    "face=face_cascade.detectMultiScale(gray_image,scaleFactor=1.1,minNeighbors=4)\n",
    "# print(face)\n",
    "\n",
    "#draw rectangles around the faces\n",
    "for(x,y,w,h)in face:\n",
    "    cv2.rectangle(img,(x,y),(x+w,y+h),(0,255,0),3)\n",
    "\n",
    "cv2.imshow('webcam face detector',img)\n",
    "\n",
    "cv2.waitKey(1)==27: #press esc to close the display window,27 is the ascii value of the escape key.\n",
    "        break:\n",
    "\n",
    "cv2.release()\n",
    "cv2.destroyAllWindows()"
   ]
  }
 ],
 "metadata": {
  "kernelspec": {
   "display_name": "Python 3 (ipykernel)",
   "language": "python",
   "name": "python3"
  },
  "language_info": {
   "codemirror_mode": {
    "name": "ipython",
    "version": 3
   },
   "file_extension": ".py",
   "mimetype": "text/x-python",
   "name": "python",
   "nbconvert_exporter": "python",
   "pygments_lexer": "ipython3",
   "version": "3.10.2"
  }
 },
 "nbformat": 4,
 "nbformat_minor": 5
}
